{
 "cells": [
  {
   "cell_type": "code",
   "execution_count": 4,
   "id": "644c1f26-f01d-4a5c-8dee-1b07410892dc",
   "metadata": {},
   "outputs": [
    {
     "ename": "ModuleNotFoundError",
     "evalue": "No module named 'sklearn'",
     "output_type": "error",
     "traceback": [
      "\u001b[0;31m---------------------------------------------------------------------------\u001b[0m",
      "\u001b[0;31mModuleNotFoundError\u001b[0m                       Traceback (most recent call last)",
      "Cell \u001b[0;32mIn[4], line 14\u001b[0m\n\u001b[1;32m     10\u001b[0m \u001b[38;5;28;01mimport\u001b[39;00m \u001b[38;5;21;01mmatplotlib\u001b[39;00m\u001b[38;5;21;01m.\u001b[39;00m\u001b[38;5;21;01mpyplot\u001b[39;00m \u001b[38;5;28;01mas\u001b[39;00m \u001b[38;5;21;01mplt\u001b[39;00m\n\u001b[1;32m     13\u001b[0m \u001b[38;5;66;03m# Feature Engineering\u001b[39;00m\n\u001b[0;32m---> 14\u001b[0m \u001b[38;5;28;01mfrom\u001b[39;00m \u001b[38;5;21;01msklearn\u001b[39;00m\u001b[38;5;21;01m.\u001b[39;00m\u001b[38;5;21;01mpreprocessing\u001b[39;00m \u001b[38;5;28;01mimport\u001b[39;00m StandardScaler\n\u001b[1;32m     15\u001b[0m \u001b[38;5;28;01mfrom\u001b[39;00m \u001b[38;5;21;01msklearn\u001b[39;00m\u001b[38;5;21;01m.\u001b[39;00m\u001b[38;5;21;01mmodel_selection\u001b[39;00m \u001b[38;5;28;01mimport\u001b[39;00m train_test_split\n\u001b[1;32m     16\u001b[0m \u001b[38;5;28;01mfrom\u001b[39;00m \u001b[38;5;21;01msklearn\u001b[39;00m\u001b[38;5;21;01m.\u001b[39;00m\u001b[38;5;21;01mneighbors\u001b[39;00m \u001b[38;5;28;01mimport\u001b[39;00m KNeighborsClassifier\n",
      "\u001b[0;31mModuleNotFoundError\u001b[0m: No module named 'sklearn'"
     ]
    }
   ],
   "source": [
    "import warnings\n",
    "warnings.filterwarnings('ignore')\n",
    "\n",
    "# Import common GIS tools\n",
    "import numpy as np\n",
    "import xarray as xr\n",
    "import pandas as pd\n",
    "\n",
    "\n",
    "import matplotlib.pyplot as plt\n",
    "\n",
    "\n",
    "# Feature Engineering\n",
    "from sklearn.preprocessing import StandardScaler\n",
    "from sklearn.model_selection import train_test_split\n",
    "from sklearn.neighbors import KNeighborsClassifier\n",
    "\n",
    "# Machine Learning\n",
    "from sklearn.linear_model import LinearRegression\n",
    "from sklearn.metrics import f1_score, accuracy_score,classification_report,confusion_matrix\n",
    "\n",
    "\n",
    "# Import Planetary Computer tools\n",
    "import pystac_client\n",
    "import planetary_computer as pc\n",
    "import odc\n",
    "from distributed import Client\n",
    "\n",
    "client = Client(processes=False)\n",
    "pc.settings.set_subscription_key('4346afa0eb8c4743b96d940704fda7d1')\n",
    "from odc.stac import stac_load\n",
    "import stackstac\n",
    "#from odc.algo import to_rgba\n",
    "from tqdm import tqdm\n",
    "tqdm.pandas()"
   ]
  },
  {
   "cell_type": "markdown",
   "id": "d511bfd3",
   "metadata": {},
   "source": [
    "# Reading Raw GeoLoc Data"
   ]
  },
  {
   "cell_type": "code",
   "execution_count": 4,
   "id": "cdf3cf0c-98fe-479a-85ef-8ce3b8617a67",
   "metadata": {},
   "outputs": [
    {
     "data": {
      "text/html": [
       "<div>\n",
       "<style scoped>\n",
       "    .dataframe tbody tr th:only-of-type {\n",
       "        vertical-align: middle;\n",
       "    }\n",
       "\n",
       "    .dataframe tbody tr th {\n",
       "        vertical-align: top;\n",
       "    }\n",
       "\n",
       "    .dataframe thead th {\n",
       "        text-align: right;\n",
       "    }\n",
       "</style>\n",
       "<table border=\"1\" class=\"dataframe\">\n",
       "  <thead>\n",
       "    <tr style=\"text-align: right;\">\n",
       "      <th></th>\n",
       "      <th>Latitude and Longitude</th>\n",
       "      <th>Class of Land</th>\n",
       "    </tr>\n",
       "  </thead>\n",
       "  <tbody>\n",
       "    <tr>\n",
       "      <th>0</th>\n",
       "      <td>(10.323727047081501, 105.2516346045924)</td>\n",
       "      <td>Rice</td>\n",
       "    </tr>\n",
       "    <tr>\n",
       "      <th>1</th>\n",
       "      <td>(10.322364360592521, 105.27843410554115)</td>\n",
       "      <td>Rice</td>\n",
       "    </tr>\n",
       "    <tr>\n",
       "      <th>2</th>\n",
       "      <td>(10.321455902933202, 105.25254306225168)</td>\n",
       "      <td>Rice</td>\n",
       "    </tr>\n",
       "    <tr>\n",
       "      <th>3</th>\n",
       "      <td>(10.324181275911162, 105.25118037576274)</td>\n",
       "      <td>Rice</td>\n",
       "    </tr>\n",
       "    <tr>\n",
       "      <th>4</th>\n",
       "      <td>(10.324635504740822, 105.27389181724476)</td>\n",
       "      <td>Rice</td>\n",
       "    </tr>\n",
       "  </tbody>\n",
       "</table>\n",
       "</div>"
      ],
      "text/plain": [
       "                     Latitude and Longitude Class of Land\n",
       "0   (10.323727047081501, 105.2516346045924)          Rice\n",
       "1  (10.322364360592521, 105.27843410554115)          Rice\n",
       "2  (10.321455902933202, 105.25254306225168)          Rice\n",
       "3  (10.324181275911162, 105.25118037576274)          Rice\n",
       "4  (10.324635504740822, 105.27389181724476)          Rice"
      ]
     },
     "execution_count": 4,
     "metadata": {},
     "output_type": "execute_result"
    }
   ],
   "source": [
    "test_file = pd.read_csv('challenge_1_submission_template.csv')\n",
    "test_file.head()\n",
    "train_file = pd.read_csv('Crop_Location_Data.csv')\n",
    "train_file.head()"
   ]
  },
  {
   "cell_type": "markdown",
   "id": "b4587341",
   "metadata": {},
   "source": [
    "# Connecting to Microsoft Planetary Computer Hub"
   ]
  },
  {
   "cell_type": "code",
   "execution_count": 5,
   "id": "59456760-5fba-4de5-bd28-330e2d4412bb",
   "metadata": {
    "tags": []
   },
   "outputs": [],
   "source": [
    "catalog = pystac_client.Client.open(\n",
    "    \"https://planetarycomputer.microsoft.com/api/stac/v1\",\n",
    "    modifier=pc.sign_inplace,\n",
    ")"
   ]
  },
  {
   "cell_type": "markdown",
   "id": "cdc0a9c5",
   "metadata": {},
   "source": [
    "# Functions for feature engineering\n",
    "- These functions are responsible for retrieving the features necessary for training\n",
    "- There is 2 satelite data sources available: Sentinel 1 and Sentinel 2, with each providing different kinds of data: Radar and Optical respectively\n",
    "- Different Vegetation Indicies such as RVI and NDVI can be retrieved from these time-series data to act as features using for training\n",
    "- After much experimenting and research, the **variance** of these vegetation indicies provides the best features for training"
   ]
  },
  {
   "cell_type": "code",
   "execution_count": 6,
   "id": "0becdc59-9b13-4710-9680-ac8f46e727e3",
   "metadata": {},
   "outputs": [],
   "source": [
    "def get_sentinel1_data(latlong,time_slice,assets):\n",
    "    '''\n",
    "    Returns VV and VH values for a given latitude and longitude \n",
    "    Attributes:\n",
    "    latlong - A tuple with 2 elements - latitude and longitude\n",
    "    time_slice - Timeframe for which the VV and VH values have to be extracted\n",
    "    assets - A list of bands to be extracted\n",
    "    '''\n",
    "\n",
    "    box_size_deg = 0.0004 # Surrounding box in degrees\n",
    "    latlong=latlong.replace('(','').replace(')','').replace(' ','').split(',')\n",
    "    \n",
    "    latlong[0] , latlong[1] = float(latlong[0]), float(latlong[1])\n",
    "    min_lon = latlong[1]-box_size_deg/2\n",
    "    min_lat = latlong[0]-box_size_deg/2\n",
    "    max_lon = latlong[1]+box_size_deg/2\n",
    "    max_lat = latlong[0]+box_size_deg/2\n",
    "    bounds = (min_lon, min_lat, max_lon, max_lat)\n",
    "\n",
    "    search = catalog.search(collections=[\"sentinel-1-rtc\"], bbox=bounds, datetime=time_slice)\n",
    "    items = list(search.get_all_items())\n",
    "    res = 10  # meters per pixel \n",
    "    scale = res / 111320.0 # degrees per pixel for crs=4326\n",
    "\n",
    "    data = stac_load(items,bands=[\"vv\", \"vh\"], patch_url=pc.sign, bbox=bounds, crs=\"EPSG:4326\", resolution=scale,chunks={\"x\": 2048, \"y\": 2048})\n",
    "    mean = data.mean(dim=['latitude','longitude']).compute()\n",
    "    dop = (mean.vv / (mean.vv + mean.vh))\n",
    "    m = 1 - dop\n",
    "    rvi = (np.sqrt(dop))*((4*mean.vh)/(mean.vv + mean.vh))\n",
    "\n",
    "    return rvi.var()\n",
    "\n",
    "    "
   ]
  },
  {
   "cell_type": "code",
   "execution_count": 7,
   "id": "5dbec3a0-f21b-4f6a-8403-13f1e4ffa529",
   "metadata": {},
   "outputs": [],
   "source": [
    "def get_sentinel2_data(latlong, time_slice):\n",
    "\n",
    "    box_size_deg = 0.0009 # Surrounding box in degrees\n",
    "    latlong=latlong.replace('(','').replace(')','').replace(' ','').split(',')\n",
    "    \n",
    "    latlong[0] , latlong[1] = float(latlong[0]), float(latlong[1])\n",
    "    min_lon = latlong[1]-box_size_deg/2\n",
    "    min_lat = latlong[0]-box_size_deg/2\n",
    "    max_lon = latlong[1]+box_size_deg/2\n",
    "    max_lat = latlong[0]+box_size_deg/2\n",
    "    bounds = (min_lon, min_lat, max_lon, max_lat)\n",
    "    \n",
    "\n",
    "    searchh = catalog.search(collections=[\"sentinel-2-l2a\"], bbox=bounds, datetime=time_slice)\n",
    "    items = list(searchh.get_all_items())\n",
    "    \n",
    "    # Define the pixel resolution for the final product\n",
    "    # Define the scale according to our selected crs, so we will use degrees\n",
    "    res = 20  # meters per pixel \n",
    "    scale = res / 111320.0 # degrees per pixel for CRS:4326\n",
    "    \n",
    "    xx = stac_load(items, bands=[\"red\", \"nir\", \"SCL\"], crs=\"EPSG:4326\", resolution=scale, chunks={\"x\": 2048, \"y\": 2048}, dtype=\"uint16\", patch_url=pc.sign, bbox=bounds )\n",
    "\n",
    "    # Apply cloud mask ... NO Clouds, NO Cloud Shadows and NO Water pixels\n",
    "    # All masked pixels are converted to \"No Data\" and stored as 16-bit integers\n",
    "    mean_clean = cleaned_data.median(dim=['longitude','latitude']).compute()\n",
    "    ndvi_mean_clean = (mean_clean.nir-mean_clean.red)/(mean_clean.nir+mean_clean.red)\n",
    "    \n",
    "    return ndvi_mean_clean.var()"
   ]
  },
  {
   "cell_type": "code",
   "execution_count": 9,
   "id": "8a0c036b-d1df-4c6c-8904-f55ed2c694cd",
   "metadata": {},
   "outputs": [],
   "source": [
    "def combine_two_datasets(dataset1,dataset2):\n",
    "    '''\n",
    "    Returns a  vertically concatenated dataset.\n",
    "    Attributes:\n",
    "    dataset1 - Dataset 1 to be combined \n",
    "    dataset2 - Dataset 2 to be combined\n",
    "    '''\n",
    "    data = pd.concat([dataset1,dataset2], axis=1)\n",
    "    return data"
   ]
  },
  {
   "cell_type": "markdown",
   "id": "714131c0",
   "metadata": {},
   "source": [
    "# Reading feature data from previously downloaded data\n",
    "- I have already used the functions to retrieve the features and stored them in a Pandas Dataframe exported to CSV\n",
    "- This is so that I don't need to re download the satelite data"
   ]
  },
  {
   "cell_type": "code",
   "execution_count": 8,
   "id": "33ed5593-0722-476c-8f2f-d0e4159eb884",
   "metadata": {},
   "outputs": [],
   "source": [
    "train_rvi_data_three_crop = pd.read_csv(\"train_rvi_data_three_crop.csv\")\n",
    "submission_rvi_data_three_crop = pd.read_csv(\"submission_rvi_data_three_crop.csv\")\n",
    "train_ndvi_data_three_crop = pd.read_csv(\"train_ndvi_data_three_crop_updated.csv\")\n",
    "submission_ndvi_data_three_crop = pd.read_csv(\"submission_ndvi_data_three_crop_updated.csv\")"
   ]
  },
  {
   "cell_type": "markdown",
   "id": "a4880a79",
   "metadata": {},
   "source": [
    "# Formatting of Features into dataframes for training"
   ]
  },
  {
   "cell_type": "code",
   "execution_count": 10,
   "id": "fee123fd-b69f-4d70-973d-60753a1360ce",
   "metadata": {
    "tags": []
   },
   "outputs": [
    {
     "data": {
      "text/html": [
       "<div>\n",
       "<style scoped>\n",
       "    .dataframe tbody tr th:only-of-type {\n",
       "        vertical-align: middle;\n",
       "    }\n",
       "\n",
       "    .dataframe tbody tr th {\n",
       "        vertical-align: top;\n",
       "    }\n",
       "\n",
       "    .dataframe thead th {\n",
       "        text-align: right;\n",
       "    }\n",
       "</style>\n",
       "<table border=\"1\" class=\"dataframe\">\n",
       "  <thead>\n",
       "    <tr style=\"text-align: right;\">\n",
       "      <th></th>\n",
       "      <th>rvi</th>\n",
       "      <th>ndvi</th>\n",
       "    </tr>\n",
       "  </thead>\n",
       "  <tbody>\n",
       "    <tr>\n",
       "      <th>0</th>\n",
       "      <td>0.087064</td>\n",
       "      <td>0.052746</td>\n",
       "    </tr>\n",
       "    <tr>\n",
       "      <th>1</th>\n",
       "      <td>0.103715</td>\n",
       "      <td>0.058047</td>\n",
       "    </tr>\n",
       "    <tr>\n",
       "      <th>2</th>\n",
       "      <td>0.098501</td>\n",
       "      <td>0.055300</td>\n",
       "    </tr>\n",
       "    <tr>\n",
       "      <th>3</th>\n",
       "      <td>0.083776</td>\n",
       "      <td>0.050447</td>\n",
       "    </tr>\n",
       "    <tr>\n",
       "      <th>4</th>\n",
       "      <td>0.091845</td>\n",
       "      <td>0.052428</td>\n",
       "    </tr>\n",
       "    <tr>\n",
       "      <th>...</th>\n",
       "      <td>...</td>\n",
       "      <td>...</td>\n",
       "    </tr>\n",
       "    <tr>\n",
       "      <th>595</th>\n",
       "      <td>0.017634</td>\n",
       "      <td>0.067580</td>\n",
       "    </tr>\n",
       "    <tr>\n",
       "      <th>596</th>\n",
       "      <td>0.016936</td>\n",
       "      <td>0.065668</td>\n",
       "    </tr>\n",
       "    <tr>\n",
       "      <th>597</th>\n",
       "      <td>0.015935</td>\n",
       "      <td>0.065318</td>\n",
       "    </tr>\n",
       "    <tr>\n",
       "      <th>598</th>\n",
       "      <td>0.011380</td>\n",
       "      <td>0.072052</td>\n",
       "    </tr>\n",
       "    <tr>\n",
       "      <th>599</th>\n",
       "      <td>0.019891</td>\n",
       "      <td>0.075952</td>\n",
       "    </tr>\n",
       "  </tbody>\n",
       "</table>\n",
       "<p>600 rows × 2 columns</p>\n",
       "</div>"
      ],
      "text/plain": [
       "          rvi      ndvi\n",
       "0    0.087064  0.052746\n",
       "1    0.103715  0.058047\n",
       "2    0.098501  0.055300\n",
       "3    0.083776  0.050447\n",
       "4    0.091845  0.052428\n",
       "..        ...       ...\n",
       "595  0.017634  0.067580\n",
       "596  0.016936  0.065668\n",
       "597  0.015935  0.065318\n",
       "598  0.011380  0.072052\n",
       "599  0.019891  0.075952\n",
       "\n",
       "[600 rows x 2 columns]"
      ]
     },
     "execution_count": 10,
     "metadata": {},
     "output_type": "execute_result"
    }
   ],
   "source": [
    "from sklearn.model_selection import cross_val_score\n",
    "Y = []\n",
    "for i in train_file[\"Class of Land\"]:\n",
    "    if i == 'Rice':\n",
    "        Y.append(1)\n",
    "    else:\n",
    "        Y.append(0)\n",
    "Y = pd.DataFrame(Y, columns = ['Class of Land'])\n",
    "X = combine_two_datasets(train_rvi_data_three_crop, train_ndvi_data_three_crop)\n",
    "X"
   ]
  },
  {
   "cell_type": "markdown",
   "id": "4c991052",
   "metadata": {},
   "source": [
    "# Training + Evaluation"
   ]
  },
  {
   "cell_type": "code",
   "execution_count": 11,
   "id": "f2f93f87-9848-49d5-a410-f2d6c7ebdc6f",
   "metadata": {},
   "outputs": [
    {
     "name": "stdout",
     "output_type": "stream",
     "text": [
      "0.9799999999999999\n"
     ]
    }
   ],
   "source": [
    "from sklearn.linear_model import LogisticRegressionCV\n",
    "sc = StandardScaler()\n",
    "X = sc.fit_transform(X)\n",
    "log = LogisticRegressionCV()\n",
    "print(cross_val_score(log, X, Y, cv = 10).mean())"
   ]
  },
  {
   "cell_type": "markdown",
   "id": "7d80bc74-57f5-4a6c-a864-8c1f5d8194f1",
   "metadata": {
    "tags": []
   },
   "source": [
    "# Testing (Submission)"
   ]
  },
  {
   "cell_type": "code",
   "execution_count": 12,
   "id": "da684014-db90-4ff5-be4e-210e09764c2e",
   "metadata": {},
   "outputs": [
    {
     "data": {
      "text/html": [
       "<div>\n",
       "<style scoped>\n",
       "    .dataframe tbody tr th:only-of-type {\n",
       "        vertical-align: middle;\n",
       "    }\n",
       "\n",
       "    .dataframe tbody tr th {\n",
       "        vertical-align: top;\n",
       "    }\n",
       "\n",
       "    .dataframe thead th {\n",
       "        text-align: right;\n",
       "    }\n",
       "</style>\n",
       "<table border=\"1\" class=\"dataframe\">\n",
       "  <thead>\n",
       "    <tr style=\"text-align: right;\">\n",
       "      <th></th>\n",
       "      <th>rvi</th>\n",
       "      <th>ndvi</th>\n",
       "    </tr>\n",
       "  </thead>\n",
       "  <tbody>\n",
       "    <tr>\n",
       "      <th>0</th>\n",
       "      <td>0.109877</td>\n",
       "      <td>0.049697</td>\n",
       "    </tr>\n",
       "    <tr>\n",
       "      <th>1</th>\n",
       "      <td>0.062935</td>\n",
       "      <td>0.068655</td>\n",
       "    </tr>\n",
       "    <tr>\n",
       "      <th>2</th>\n",
       "      <td>0.083541</td>\n",
       "      <td>0.055181</td>\n",
       "    </tr>\n",
       "    <tr>\n",
       "      <th>3</th>\n",
       "      <td>0.030374</td>\n",
       "      <td>0.032616</td>\n",
       "    </tr>\n",
       "    <tr>\n",
       "      <th>4</th>\n",
       "      <td>0.094482</td>\n",
       "      <td>0.073626</td>\n",
       "    </tr>\n",
       "    <tr>\n",
       "      <th>...</th>\n",
       "      <td>...</td>\n",
       "      <td>...</td>\n",
       "    </tr>\n",
       "    <tr>\n",
       "      <th>245</th>\n",
       "      <td>0.045191</td>\n",
       "      <td>0.025755</td>\n",
       "    </tr>\n",
       "    <tr>\n",
       "      <th>246</th>\n",
       "      <td>0.031131</td>\n",
       "      <td>0.033803</td>\n",
       "    </tr>\n",
       "    <tr>\n",
       "      <th>247</th>\n",
       "      <td>0.029789</td>\n",
       "      <td>0.031764</td>\n",
       "    </tr>\n",
       "    <tr>\n",
       "      <th>248</th>\n",
       "      <td>0.102824</td>\n",
       "      <td>0.060775</td>\n",
       "    </tr>\n",
       "    <tr>\n",
       "      <th>249</th>\n",
       "      <td>0.099492</td>\n",
       "      <td>0.051548</td>\n",
       "    </tr>\n",
       "  </tbody>\n",
       "</table>\n",
       "<p>250 rows × 2 columns</p>\n",
       "</div>"
      ],
      "text/plain": [
       "          rvi      ndvi\n",
       "0    0.109877  0.049697\n",
       "1    0.062935  0.068655\n",
       "2    0.083541  0.055181\n",
       "3    0.030374  0.032616\n",
       "4    0.094482  0.073626\n",
       "..        ...       ...\n",
       "245  0.045191  0.025755\n",
       "246  0.031131  0.033803\n",
       "247  0.029789  0.031764\n",
       "248  0.102824  0.060775\n",
       "249  0.099492  0.051548\n",
       "\n",
       "[250 rows x 2 columns]"
      ]
     },
     "execution_count": 12,
     "metadata": {},
     "output_type": "execute_result"
    }
   ],
   "source": [
    "Y = []\n",
    "for i in train_file[\"Class of Land\"]:\n",
    "    if i == 'Rice':\n",
    "        Y.append(1)\n",
    "    else:\n",
    "        Y.append(0)\n",
    "Y = pd.DataFrame(Y, columns = ['Class of Land'])\n",
    "X = combine_two_datasets(train_rvi_data_three_crop, train_ndvi_data_three_crop)\n",
    "submission = combine_two_datasets(submission_rvi_data_three_crop, submission_ndvi_data_three_crop)\n",
    "submission"
   ]
  },
  {
   "cell_type": "code",
   "execution_count": 13,
   "id": "7024c243-dc69-41e7-aa96-dc206214fdff",
   "metadata": {},
   "outputs": [],
   "source": [
    "from sklearn.linear_model import LogisticRegression\n",
    "sc = StandardScaler()\n",
    "X = sc.fit_transform(X)\n",
    "submission = sc.transform(submission)\n",
    "log = LogisticRegression()\n",
    "model = log.fit(X, Y)"
   ]
  },
  {
   "cell_type": "code",
   "execution_count": 14,
   "id": "2ff5a0cf-45e5-487d-8ab3-7072bb7876fb",
   "metadata": {},
   "outputs": [],
   "source": [
    "final_predictions = model.predict(submission)\n",
    "final_prediction_series = pd.Series(final_predictions)"
   ]
  },
  {
   "cell_type": "code",
   "execution_count": 15,
   "id": "eb28de62-782b-4a61-bde3-bca61e6e1fdb",
   "metadata": {},
   "outputs": [
    {
     "data": {
      "text/plain": [
       "0.4"
      ]
     },
     "execution_count": 15,
     "metadata": {},
     "output_type": "execute_result"
    }
   ],
   "source": [
    "submission_df = pd.DataFrame({'id':test_file['id'].values, 'target':final_prediction_series.values})\n",
    "submission_df.loc[submission_df['target'] == 1, 'target'] = 'Rice'\n",
    "submission_df.loc[submission_df['target'] == 0, 'target'] = 'Non Rice'\n",
    "(sum(submission_df['target'] == 'Rice'))/ len(submission_df['target'])"
   ]
  },
  {
   "cell_type": "code",
   "execution_count": 16,
   "id": "649bf30a-2712-4aae-8fd1-88f4604bf16a",
   "metadata": {},
   "outputs": [
    {
     "data": {
      "text/html": [
       "<div>\n",
       "<style scoped>\n",
       "    .dataframe tbody tr th:only-of-type {\n",
       "        vertical-align: middle;\n",
       "    }\n",
       "\n",
       "    .dataframe tbody tr th {\n",
       "        vertical-align: top;\n",
       "    }\n",
       "\n",
       "    .dataframe thead th {\n",
       "        text-align: right;\n",
       "    }\n",
       "</style>\n",
       "<table border=\"1\" class=\"dataframe\">\n",
       "  <thead>\n",
       "    <tr style=\"text-align: right;\">\n",
       "      <th></th>\n",
       "      <th>id</th>\n",
       "      <th>target</th>\n",
       "    </tr>\n",
       "  </thead>\n",
       "  <tbody>\n",
       "    <tr>\n",
       "      <th>0</th>\n",
       "      <td>(10.18019073690894, 105.32022315786804)</td>\n",
       "      <td>Rice</td>\n",
       "    </tr>\n",
       "    <tr>\n",
       "      <th>1</th>\n",
       "      <td>(10.561107033461816, 105.12772097986661)</td>\n",
       "      <td>Rice</td>\n",
       "    </tr>\n",
       "    <tr>\n",
       "      <th>2</th>\n",
       "      <td>(10.623790611954897, 105.13771401411867)</td>\n",
       "      <td>Rice</td>\n",
       "    </tr>\n",
       "    <tr>\n",
       "      <th>3</th>\n",
       "      <td>(10.583364246115156, 105.23946127195805)</td>\n",
       "      <td>Non Rice</td>\n",
       "    </tr>\n",
       "    <tr>\n",
       "      <th>4</th>\n",
       "      <td>(10.20744446668854, 105.26844107128906)</td>\n",
       "      <td>Rice</td>\n",
       "    </tr>\n",
       "    <tr>\n",
       "      <th>...</th>\n",
       "      <td>...</td>\n",
       "      <td>...</td>\n",
       "    </tr>\n",
       "    <tr>\n",
       "      <th>245</th>\n",
       "      <td>(10.308283266873062, 105.50872812216863)</td>\n",
       "      <td>Non Rice</td>\n",
       "    </tr>\n",
       "    <tr>\n",
       "      <th>246</th>\n",
       "      <td>(10.582910017285496, 105.23991550078767)</td>\n",
       "      <td>Non Rice</td>\n",
       "    </tr>\n",
       "    <tr>\n",
       "      <th>247</th>\n",
       "      <td>(10.581547330796518, 105.23991550078767)</td>\n",
       "      <td>Non Rice</td>\n",
       "    </tr>\n",
       "    <tr>\n",
       "      <th>248</th>\n",
       "      <td>(10.629241357910818, 105.15315779432643)</td>\n",
       "      <td>Rice</td>\n",
       "    </tr>\n",
       "    <tr>\n",
       "      <th>249</th>\n",
       "      <td>(10.574733898351617, 105.10410108072531)</td>\n",
       "      <td>Rice</td>\n",
       "    </tr>\n",
       "  </tbody>\n",
       "</table>\n",
       "<p>250 rows × 2 columns</p>\n",
       "</div>"
      ],
      "text/plain": [
       "                                           id    target\n",
       "0     (10.18019073690894, 105.32022315786804)      Rice\n",
       "1    (10.561107033461816, 105.12772097986661)      Rice\n",
       "2    (10.623790611954897, 105.13771401411867)      Rice\n",
       "3    (10.583364246115156, 105.23946127195805)  Non Rice\n",
       "4     (10.20744446668854, 105.26844107128906)      Rice\n",
       "..                                        ...       ...\n",
       "245  (10.308283266873062, 105.50872812216863)  Non Rice\n",
       "246  (10.582910017285496, 105.23991550078767)  Non Rice\n",
       "247  (10.581547330796518, 105.23991550078767)  Non Rice\n",
       "248  (10.629241357910818, 105.15315779432643)      Rice\n",
       "249  (10.574733898351617, 105.10410108072531)      Rice\n",
       "\n",
       "[250 rows x 2 columns]"
      ]
     },
     "metadata": {},
     "output_type": "display_data"
    }
   ],
   "source": [
    "display(submission_df)"
   ]
  },
  {
   "cell_type": "code",
   "execution_count": 25,
   "id": "6f063aeb-af37-4136-a588-f8af9cfde2dc",
   "metadata": {},
   "outputs": [],
   "source": [
    "submission_df.to_csv(\"submission_log_rvi_ndvi(unfiltered)_3crop.csv\",index = False)"
   ]
  }
 ],
 "metadata": {
  "kernelspec": {
   "display_name": "Python 3 (ipykernel)",
   "language": "python",
   "name": "python3"
  },
  "language_info": {
   "codemirror_mode": {
    "name": "ipython",
    "version": 3
   },
   "file_extension": ".py",
   "mimetype": "text/x-python",
   "name": "python",
   "nbconvert_exporter": "python",
   "pygments_lexer": "ipython3",
   "version": "3.10.6"
  }
 },
 "nbformat": 4,
 "nbformat_minor": 5
}
